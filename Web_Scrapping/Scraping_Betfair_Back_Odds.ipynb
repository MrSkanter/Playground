{
 "cells": [
  {
   "cell_type": "code",
   "execution_count": 1,
   "id": "b6c9d8a2-df8a-455c-98a0-3fc04f1efac9",
   "metadata": {},
   "outputs": [],
   "source": [
    "\n",
    "# Importa as bibliotecas necessárias\n",
    "import warnings\n",
    "from selenium import webdriver\n",
    "from webdriver_manager.microsoft import EdgeChromiumDriverManager\n",
    "from selenium.webdriver.common.by import By\n",
    "from selenium.webdriver.edge.service import Service\n",
    "from selenium.webdriver.edge.options import Options\n",
    "from time import sleep\n",
    "import pandas as pd\n",
    "import numpy as np"
   ]
  },
  {
   "cell_type": "code",
   "execution_count": 2,
   "id": "e4d7da93-da09-438e-9038-47eab188bbba",
   "metadata": {},
   "outputs": [],
   "source": [
    "# Inicializa listas para armazenar os dados\n",
    "data_horario = []\n",
    "data_home = []\n",
    "data_away = []\n",
    "data_odds_home = []\n",
    "data_odds_draw = []\n",
    "data_odds_away = []\n",
    "\n",
    "driver = webdriver.Edge()\n",
    "\n",
    "pages = 5\n",
    "for p in range(1, pages + 1):\n",
    "    driver.get(f'https://www.betfair.com/exchange/plus/pt/futebol-apostas-1/today/{p}')\n",
    "    driver.implicitly_wait(5)\n",
    "    driver.maximize_window()\n",
    "\n",
    "    try:\n",
    "        # Fechar o pop-up de cookies\n",
    "        driver.find_element(By.XPATH, \"//button[@id='onetrust-accept-btn-handler']\").click()\n",
    "    except:\n",
    "        pass\n",
    "    driver.implicitly_wait(5)\n",
    "\n",
    "    horario = driver.find_elements(By.CLASS_NAME, 'start-date-wrapper')\n",
    "    clubes = driver.find_elements(By.CLASS_NAME, 'runners')\n",
    "    odds = driver.find_elements(By.CLASS_NAME, \"Zs3u5\")\n",
    "\n",
    "    for i in range(len(horario)):\n",
    "        home, away = clubes[i].text.split(\"\\n\")\n",
    "        # Adiciona os dados coletados às listas\n",
    "        data_horario.append(horario[i].text)\n",
    "        data_home.append(home)\n",
    "        data_away.append(away)\n",
    "        data_odds_home.append(odds[(i*6)+0].text)\n",
    "        data_odds_away.append(odds[(i*6)+4].text)\n",
    "        data_odds_draw.append(odds[(i*6)+2].text)\n",
    "\n",
    "driver.close()\n",
    "\n",
    "# Cria um DataFrame com os dados coletados\n",
    "df = pd.DataFrame({\n",
    "    'Horario': data_horario,\n",
    "    'Time de Casa': data_home,\n",
    "    'Time Visitante': data_away,\n",
    "    'Odds Casa': data_odds_home,\n",
    "    'Odds Visitante': data_odds_away,\n",
    "    'Odds Empate': data_odds_draw\n",
    "})\n",
    "\n",
    "df[\"JUICE\"] = (1/pd.to_numeric(df[\"Odds Casa\"])) + (1/pd.to_numeric(df[\"Odds Visitante\"])) + (1/pd.to_numeric(df[\"Odds Empate\"]))\n",
    "df = df[df[\"JUICE\"] <= 2]\n",
    "\n",
    "# Salva o DataFrame em um arquivo CSV\n",
    "df.to_csv('odds_betfair.csv', index=False, sep=';', encoding='utf-8-sig')"
   ]
  },
  {
   "cell_type": "code",
   "execution_count": null,
   "id": "850ed768-4a34-4b8a-ac62-79b999e5fa0d",
   "metadata": {},
   "outputs": [],
   "source": []
  },
  {
   "cell_type": "code",
   "execution_count": null,
   "id": "eaaf6ae2-732c-48bd-8fa9-61e63c6c465a",
   "metadata": {},
   "outputs": [],
   "source": []
  }
 ],
 "metadata": {
  "kernelspec": {
   "display_name": "Python 3 (ipykernel)",
   "language": "python",
   "name": "python3"
  },
  "language_info": {
   "codemirror_mode": {
    "name": "ipython",
    "version": 3
   },
   "file_extension": ".py",
   "mimetype": "text/x-python",
   "name": "python",
   "nbconvert_exporter": "python",
   "pygments_lexer": "ipython3",
   "version": "3.11.5"
  }
 },
 "nbformat": 4,
 "nbformat_minor": 5
}
